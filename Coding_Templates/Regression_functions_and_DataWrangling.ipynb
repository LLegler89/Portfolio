{
  "nbformat": 4,
  "nbformat_minor": 0,
  "metadata": {
    "colab": {
      "provenance": [],
      "authorship_tag": "ABX9TyMvy/kI+3YFT53c86tCF+zv",
      "include_colab_link": true
    },
    "kernelspec": {
      "name": "python3",
      "display_name": "Python 3"
    },
    "language_info": {
      "name": "python"
    }
  },
  "cells": [
    {
      "cell_type": "markdown",
      "metadata": {
        "id": "view-in-github",
        "colab_type": "text"
      },
      "source": [
        "<a href=\"https://colab.research.google.com/github/LLegler89/Portfolio/blob/main/Regression_functions_and_DataWrangling.ipynb\" target=\"_parent\"><img src=\"https://colab.research.google.com/assets/colab-badge.svg\" alt=\"Open In Colab\"/></a>"
      ]
    },
    {
      "cell_type": "code",
      "execution_count": null,
      "metadata": {
        "colab": {
          "base_uri": "https://localhost:8080/"
        },
        "id": "epBDajaKaFx-",
        "outputId": "60021ec9-b649-42c7-a515-d11fbf8ec4e3"
      },
      "outputs": [
        {
          "output_type": "stream",
          "name": "stdout",
          "text": [
            "[0.0237988  4.14020955]\n"
          ]
        }
      ],
      "source": [
        "import pandas as pd\n",
        "from sklearn.linear_model import LinearRegression\n",
        "\n",
        "def process_and_regress(file_path, dependent_var):\n",
        "    \"\"\"\n",
        "    Loads a dataset, cleans it by removing rows with missing values, and runs a linear regression.\n",
        "\n",
        "    Args:\n",
        "        file_path (str): The path to the dataset file.\n",
        "        dependent_var (str): The name of the dependent variable.\n",
        "\n",
        "    Returns:\n",
        "        LinearRegression: The fitted linear regression model.\n",
        "    \"\"\"\n",
        "\n",
        "    # Load dataset, inferring the delimiter based on the file\n",
        "    df = pd.read_csv(file_path, delimiter=None, engine='python')\n",
        "\n",
        "    # Drop rows with zeros, NaNs, or blank values in any column, including the dependent variable\n",
        "    df = df.replace('', pd.NA)  # Replace blank values with NaNs to ensure they are caught\n",
        "    df = df.dropna()\n",
        "\n",
        "    # Separate the dependent variable from the independent variables\n",
        "    X = df.drop(dependent_var, axis=1)\n",
        "    y = df[dependent_var]\n",
        "\n",
        "    # Create and fit the linear regression model\n",
        "    model = LinearRegression()\n",
        "    model.fit(X, y)\n",
        "\n",
        "    return model\n",
        "\n",
        "# Example usage:\n",
        "file_path = \"/content/test1.csv\"\n",
        "dependent_variable = \"Weight(lbs)\"\n",
        "model = process_and_regress(file_path, dependent_variable)\n",
        "\n",
        "# You can now use the model to make predictions or examine its coefficients\n",
        "# For example to view the coefficients\n",
        "print(model.coef_)"
      ]
    },
    {
      "cell_type": "code",
      "source": [
        "import pandas as pd\n",
        "from sklearn.linear_model import LinearRegression\n",
        "from sklearn.preprocessing import LabelEncoder\n",
        "\n",
        "def process_and_regress(file_path, dependent_var):\n",
        "    \"\"\"\n",
        "    Loads a dataset, cleans it by removing rows with missing values,\n",
        "    encodes the dependent variable if categorical and runs a linear regression.\n",
        "\n",
        "    Args:\n",
        "        file_path (str): The path to the dataset file.\n",
        "        dependent_var (str): The name of the dependent variable.\n",
        "\n",
        "    Returns:\n",
        "        LinearRegression: The fitted linear regression model.\n",
        "    \"\"\"\n",
        "\n",
        "    # Load dataset\n",
        "    df = pd.read_csv(file_path, delimiter=None, engine='python')\n",
        "\n",
        "    # Drop rows with zeros, NaNs, or blank values\n",
        "    df = df.replace('', pd.NA)\n",
        "    df = df.dropna()\n",
        "\n",
        "    # Check if the dependent variable is numeric or categorical\n",
        "    if pd.api.types.is_numeric_dtype(df[dependent_var]):\n",
        "        print('The dependent variable is numeric. Proceeding without encoding.')\n",
        "    else:\n",
        "        print('The dependent variable is categorical. Encoding with LabelEncoder.')\n",
        "        le = LabelEncoder()\n",
        "        df[dependent_var] = le.fit_transform(df[dependent_var])\n",
        "\n",
        "    # Separate the dependent variable from the independent variables\n",
        "    X = df.drop(dependent_var, axis=1)\n",
        "    y = df[dependent_var]\n",
        "\n",
        "    # Create and fit the linear regression model\n",
        "    model = LinearRegression()\n",
        "    model.fit(X, y)\n",
        "    print(model.feature_names_in_,model.coef_)\n",
        "\n",
        "    return model\n",
        "\n",
        "# Example usage:\n",
        "file_path = \"/content/Blood_samples_dataset_balanced_2(f).csv\"\n",
        "dependent_variable = \"Disease\"\n",
        "model = process_and_regress(file_path, dependent_variable)"
      ],
      "metadata": {
        "colab": {
          "base_uri": "https://localhost:8080/"
        },
        "id": "dsLH4YrXe429",
        "outputId": "7d0abe3e-8ec9-4562-e1ab-1b19affbe488"
      },
      "execution_count": null,
      "outputs": [
        {
          "output_type": "stream",
          "name": "stdout",
          "text": [
            "The dependent variable is categorical. Encoding with LabelEncoder.\n",
            "['Glucose' 'Cholesterol' 'Hemoglobin' 'Platelets' 'White Blood Cells'\n",
            " 'Red Blood Cells' 'Hematocrit' 'Mean Corpuscular Volume'\n",
            " 'Mean Corpuscular Hemoglobin' 'Mean Corpuscular Hemoglobin Concentration'\n",
            " 'Insulin' 'BMI' 'Systolic Blood Pressure' 'Diastolic Blood Pressure'\n",
            " 'Triglycerides' 'HbA1c' 'LDL Cholesterol' 'HDL Cholesterol' 'ALT' 'AST'\n",
            " 'Heart Rate' 'Creatinine' 'Troponin' 'C-reactive Protein'] [-0.06881998  0.21677234  1.71366209 -0.97151753  1.27249326  1.87798735\n",
            "  0.76301175 -0.55971482  0.76013807  0.47147138  1.13062176  0.97218499\n",
            " -1.00395141 -0.78954866 -0.5440856  -0.10847837 -1.63329435 -0.2648973\n",
            "  0.44350211 -0.23923323 -0.8801499   0.60895293 -0.36475907  1.16518383]\n"
          ]
        }
      ]
    },
    {
      "cell_type": "code",
      "source": [
        "import pandas as pd\n",
        "from sklearn.linear_model import LinearRegression\n",
        "from sklearn.preprocessing import LabelEncoder\n",
        "import statsmodels.api as sm\n",
        "\n",
        "def process_and_regress(file_path, dependent_var):\n",
        "    \"\"\"\n",
        "    Loads a dataset, cleans it by removing rows with missing values,\n",
        "    encodes the dependent variable if categorical and runs a linear regression.\n",
        "\n",
        "    Args:\n",
        "        file_path (str): The path to the dataset file.\n",
        "        dependent_var (str): The name of the dependent variable.\n",
        "\n",
        "    Returns:\n",
        "        LinearRegression: The fitted linear regression model.\n",
        "    \"\"\"\n",
        "\n",
        "    # Load dataset\n",
        "    df = pd.read_csv(file_path, delimiter=None, engine='python')\n",
        "\n",
        "    # Drop rows with zeros, NaNs, or blank values\n",
        "    df = df.replace('', pd.NA)\n",
        "    df = df.dropna()\n",
        "\n",
        "    # Check if the dependent variable is numeric or categorical\n",
        "    if pd.api.types.is_numeric_dtype(df[dependent_var]):\n",
        "        print('The dependent variable is numeric. Proceeding without encoding.')\n",
        "    else:\n",
        "        print('The dependent variable is categorical. Encoding with LabelEncoder.')\n",
        "        le = LabelEncoder()\n",
        "        df[dependent_var] = le.fit_transform(df[dependent_var])\n",
        "\n",
        "    # Separate the dependent variable from the independent variables\n",
        "    X = df.drop(dependent_var, axis=1)\n",
        "    y = df[dependent_var]\n",
        "    # Fit the linear regression model (using statsmodels for p-values)\n",
        "    X2 = sm.add_constant(X)  # Add a constant for the intercept\n",
        "    model = sm.OLS(y, X2).fit()\n",
        "\n",
        "    # Create the results table\n",
        "    results_df = pd.DataFrame({\n",
        "        'Variable': X.columns,\n",
        "        'Coefficient': model.params[1:],\n",
        "        'p-value': model.pvalues[1:]\n",
        "    })\n",
        "\n",
        "    return model, results_df\n",
        "\n",
        "\n",
        "# Example usage:\n",
        "file_path = \"/content/Blood_samples_dataset_balanced_2(f).csv\"\n",
        "dependent_variable = \"Disease\"\n",
        "model = process_and_regress(file_path, dependent_variable)\n",
        "\n",
        "\n",
        "print(model)"
      ],
      "metadata": {
        "colab": {
          "base_uri": "https://localhost:8080/"
        },
        "id": "ctY2oJCOhaq8",
        "outputId": "7a2f6049-029d-4702-cb57-c292cd4b858d"
      },
      "execution_count": null,
      "outputs": [
        {
          "output_type": "stream",
          "name": "stdout",
          "text": [
            "The dependent variable is categorical. Encoding with LabelEncoder.\n",
            "                                                                            Variable  \\\n",
            "Glucose                                                                      Glucose   \n",
            "Cholesterol                                                              Cholesterol   \n",
            "Hemoglobin                                                                Hemoglobin   \n",
            "Platelets                                                                  Platelets   \n",
            "White Blood Cells                                                  White Blood Cells   \n",
            "Red Blood Cells                                                      Red Blood Cells   \n",
            "Hematocrit                                                                Hematocrit   \n",
            "Mean Corpuscular Volume                                      Mean Corpuscular Volume   \n",
            "Mean Corpuscular Hemoglobin                              Mean Corpuscular Hemoglobin   \n",
            "Mean Corpuscular Hemoglobin Concentration  Mean Corpuscular Hemoglobin Concentration   \n",
            "Insulin                                                                      Insulin   \n",
            "BMI                                                                              BMI   \n",
            "Systolic Blood Pressure                                      Systolic Blood Pressure   \n",
            "Diastolic Blood Pressure                                    Diastolic Blood Pressure   \n",
            "Triglycerides                                                          Triglycerides   \n",
            "HbA1c                                                                          HbA1c   \n",
            "LDL Cholesterol                                                      LDL Cholesterol   \n",
            "HDL Cholesterol                                                      HDL Cholesterol   \n",
            "ALT                                                                              ALT   \n",
            "AST                                                                              AST   \n",
            "Heart Rate                                                                Heart Rate   \n",
            "Creatinine                                                                Creatinine   \n",
            "Troponin                                                                    Troponin   \n",
            "C-reactive Protein                                                C-reactive Protein   \n",
            "\n",
            "                                           Coefficient        p-value  \n",
            "Glucose                                      -0.068820   4.506773e-01  \n",
            "Cholesterol                                   0.216772   1.860973e-02  \n",
            "Hemoglobin                                    1.713662   5.960376e-91  \n",
            "Platelets                                    -0.971518   3.799648e-46  \n",
            "White Blood Cells                             1.272493   8.598681e-64  \n",
            "Red Blood Cells                               1.877987  4.287066e-111  \n",
            "Hematocrit                                    0.763012   9.251336e-27  \n",
            "Mean Corpuscular Volume                      -0.559715   3.632007e-15  \n",
            "Mean Corpuscular Hemoglobin                   0.760138   5.479667e-30  \n",
            "Mean Corpuscular Hemoglobin Concentration     0.471471   2.029448e-10  \n",
            "Insulin                                       1.130622   3.878059e-30  \n",
            "BMI                                           0.972185   1.932963e-19  \n",
            "Systolic Blood Pressure                      -1.003951   7.491521e-33  \n",
            "Diastolic Blood Pressure                     -0.789549   1.567645e-18  \n",
            "Triglycerides                                -0.544086   1.136824e-10  \n",
            "HbA1c                                        -0.108478   1.711892e-01  \n",
            "LDL Cholesterol                              -1.633294   3.087594e-72  \n",
            "HDL Cholesterol                              -0.264897   1.011659e-03  \n",
            "ALT                                           0.443502   1.298217e-08  \n",
            "AST                                          -0.239233   8.407783e-03  \n",
            "Heart Rate                                   -0.880150   1.532100e-28  \n",
            "Creatinine                                    0.608953   4.353307e-11  \n",
            "Troponin                                     -0.364759   4.461085e-05  \n",
            "C-reactive Protein                            1.165184   6.673589e-39  \n"
          ]
        }
      ]
    },
    {
      "cell_type": "code",
      "source": [
        "# Example usage:\n",
        "file_path = \"/content/Blood_samples_dataset_balanced_2(f).csv\"\n",
        "dependent_variable = \"Disease\"\n",
        "model = process_and_regress(file_path, dependent_variable)"
      ],
      "metadata": {
        "colab": {
          "base_uri": "https://localhost:8080/"
        },
        "id": "f80CcFLEhhJU",
        "outputId": "a9e8ca4a-2540-46d3-b4a8-5928105918b8"
      },
      "execution_count": null,
      "outputs": [
        {
          "output_type": "stream",
          "name": "stdout",
          "text": [
            "The dependent variable is categorical. Encoding with LabelEncoder.\n",
            "['Glucose' 'Cholesterol' 'Hemoglobin' 'Platelets' 'White Blood Cells'\n",
            " 'Red Blood Cells' 'Hematocrit' 'Mean Corpuscular Volume'\n",
            " 'Mean Corpuscular Hemoglobin' 'Mean Corpuscular Hemoglobin Concentration'\n",
            " 'Insulin' 'BMI' 'Systolic Blood Pressure' 'Diastolic Blood Pressure'\n",
            " 'Triglycerides' 'HbA1c' 'LDL Cholesterol' 'HDL Cholesterol' 'ALT' 'AST'\n",
            " 'Heart Rate' 'Creatinine' 'Troponin' 'C-reactive Protein'] [-0.06881998  0.21677234  1.71366209 -0.97151753  1.27249326  1.87798735\n",
            "  0.76301175 -0.55971482  0.76013807  0.47147138  1.13062176  0.97218499\n",
            " -1.00395141 -0.78954866 -0.5440856  -0.10847837 -1.63329435 -0.2648973\n",
            "  0.44350211 -0.23923323 -0.8801499   0.60895293 -0.36475907  1.16518383]\n"
          ]
        }
      ]
    },
    {
      "cell_type": "code",
      "source": [
        "import pandas as pd\n",
        "from sklearn.linear_model import LinearRegression\n",
        "from sklearn.preprocessing import LabelEncoder\n",
        "import statsmodels.api as sm\n",
        "from sklearn.model_selection import train_test_split\n",
        "from sklearn.metrics import roc_auc_score, roc_curve\n",
        "import matplotlib.pyplot as plt\n",
        "\n",
        "def process_and_regress(file_path, dependent_var, test_size=0.25, random_state=42):\n",
        "    \"\"\"\n",
        "    Loads a dataset, cleans it, encodes categorical dependent variables,\n",
        "    runs a linear regression and outputs a table of coefficients and p-values.\n",
        "\n",
        "    Args:\n",
        "        file_path (str): Path to the dataset file.\n",
        "        dependent_var (str): Name of the dependent variable.\n",
        "\n",
        "    Returns:\n",
        "        DataFrame: A table containing coefficients and p-values.\n",
        "    \"\"\"\n",
        "\n",
        "    # Load dataset\n",
        "    df = pd.read_csv(file_path, delimiter=None, engine='python')\n",
        "\n",
        "    # Drop rows with zeros, NaNs, or blank values\n",
        "    df = df.replace('', pd.NA)\n",
        "    df = df.dropna()\n",
        "\n",
        "    # Check and encode if dependent variable is categorical\n",
        "    if pd.api.types.is_numeric_dtype(df[dependent_var]):\n",
        "        print('The dependent variable is numeric. Proceeding without encoding.')\n",
        "    else:\n",
        "        print('The dependent variable is categorical. Encoding with LabelEncoder.')\n",
        "        le = LabelEncoder()\n",
        "        df[dependent_var] = le.fit_transform(df[dependent_var])\n",
        "\n",
        "    # Separate dependent and independent variables\n",
        "    X = df.drop(dependent_var, axis=1)\n",
        "    y = df[dependent_var]\n",
        "    X = sm.add_constant(X) # statsmodels requires a constant added to the independent variables\n",
        "\n",
        "    # Test-train split\n",
        "    X_train, X_test, y_train, y_test = train_test_split(X, y, test_size=test_size, random_state=random_state)\n",
        "    X_train = sm.add_constant(X_train)  # For statsmodels\n",
        "    X_test = sm.add_constant(X_test)\n",
        "\n",
        "    # Fit linear regression model\n",
        "    model = sm.OLS(y_train, X_train).fit()\n",
        "\n",
        "    # Create results DataFrame\n",
        "    results_df = pd.DataFrame({'Variable': X_train.columns, 'Coefficient': model.params, 'p-value': model.pvalues}).round(2)\n",
        "\n",
        "    # Calculate predictions and AUC\n",
        "    y_pred = model.predict(X_test)\n",
        "    roc_auc = roc_auc_score(y_test, y_pred, multi_class='ovr')\n",
        "\n",
        "    # Generate AUC-ROC plot\n",
        "    fpr, tpr, thresholds = roc_curve(y_test, y_pred)\n",
        "    plt.figure()\n",
        "    plt.plot(fpr, tpr, label='AUC = %0.2f' % roc_auc)\n",
        "    plt.plot([0, 1], [0, 1], 'k--')  # Add diagonal line for reference\n",
        "    plt.xlim([0.0, 1.0])\n",
        "    plt.ylim([0.0, 1.05])\n",
        "    plt.xlabel('False Positive Rate')\n",
        "    plt.ylabel('True Positive Rate')\n",
        "    plt.title('Receiver Operating Characteristic (ROC) Curve')\n",
        "    plt.legend(loc=\"lower right\")\n",
        "    plt.show()\n",
        "\n",
        "    return results_df\n",
        "\n",
        "# Example usage:\n",
        "file_path = \"/content/banana_quality.csv\"\n",
        "dependent_variable = \"Quality\"\n",
        "results = process_and_regress(file_path, dependent_variable)\n",
        "print(results)"
      ],
      "metadata": {
        "colab": {
          "base_uri": "https://localhost:8080/",
          "height": 646
        },
        "id": "FfDBWXIWm1Z5",
        "outputId": "17667bce-a812-43a4-8d07-24136336de72"
      },
      "execution_count": null,
      "outputs": [
        {
          "output_type": "stream",
          "name": "stdout",
          "text": [
            "The dependent variable is categorical. Encoding with LabelEncoder.\n"
          ]
        },
        {
          "output_type": "display_data",
          "data": {
            "text/plain": [
              "<Figure size 640x480 with 1 Axes>"
            ],
            "image/png": "[encoded data removed]"
          },
          "metadata": {}
        },
        {
          "output_type": "stream",
          "name": "stdout",
          "text": [
            "                Variable  Coefficient  p-value\n",
            "const              const         0.69      0.0\n",
            "Size                Size         0.08      0.0\n",
            "Weight            Weight         0.10      0.0\n",
            "Sweetness      Sweetness         0.08      0.0\n",
            "Softness        Softness         0.01      0.0\n",
            "HarvestTime  HarvestTime         0.06      0.0\n",
            "Ripeness        Ripeness         0.06      0.0\n",
            "Acidity          Acidity        -0.01      0.0\n"
          ]
        }
      ]
    },
    {
      "cell_type": "markdown",
      "source": [
        "Test_results (no data cleaning)"
      ],
      "metadata": {
        "id": "y62zUrXNZaAL"
      }
    },
    {
      "cell_type": "code",
      "source": [
        "import pandas as pd\n",
        "from sklearn.model_selection import train_test_split\n",
        "from sklearn.linear_model import LinearRegression\n",
        "from sklearn import metrics\n",
        "from sklearn.preprocessing import LabelEncoder\n",
        "\n",
        "def load_data(file_path, dependent_variable):\n",
        "    # Load the data\n",
        "    data = pd.read_csv(file_path)\n",
        "\n",
        "    # Check the data type of the dependent variable\n",
        "    if data[dependent_variable].dtype == 'object':\n",
        "        # If the data type is a string, encode the data\n",
        "        le = LabelEncoder()\n",
        "        y = le.fit_transform(data[dependent_variable])\n",
        "    else:\n",
        "        # If the data type is a float or an integer, proceed\n",
        "        y = data[dependent_variable]\n",
        "\n",
        "    # Define the independent variables\n",
        "    x = data.drop([dependent_variable], axis=1)\n",
        "\n",
        "    return x, y\n",
        "\n",
        "def run_linear_regression(file_path, dependent_variable):\n",
        "    x, y = load_data(file_path, dependent_variable)\n",
        "\n",
        "    # Split the data into training and testing sets\n",
        "    x_train, x_test, y_train, y_test = train_test_split(x, y, test_size=0.2, random_state=0)\n",
        "\n",
        "    # Create and fit the linear regression model\n",
        "    model = LinearRegression()\n",
        "    model.fit(x_train, y_train)\n",
        "\n",
        "    # Make predictions\n",
        "    predictions = model.predict(x_test)\n",
        "\n",
        "    # Evaluate the model\n",
        "    mae = metrics.mean_absolute_error(y_test, predictions)\n",
        "    mse = metrics.mean_squared_error(y_test, predictions)\n",
        "    rmse = mse ** 0.5\n",
        "\n",
        "    print('Mean Absolute Error:', mae)\n",
        "    print('Mean Squared Error:', mse)\n",
        "    print('Root Mean Squared Error:', rmse)\n",
        "\n",
        "# Use the function\n",
        "run_linear_regression('/content/banana_quality.csv', 'Quality')"
      ],
      "metadata": {
        "colab": {
          "base_uri": "https://localhost:8080/"
        },
        "id": "Hw_sLnhCjTuE",
        "outputId": "5db25a80-95da-4c51-ead4-7845bc17a4de"
      },
      "execution_count": null,
      "outputs": [
        {
          "output_type": "stream",
          "name": "stdout",
          "text": [
            "Mean Absolute Error: 0.2665113141335334\n",
            "Mean Squared Error: 0.10709127356247246\n",
            "Root Mean Squared Error: 0.3272480306472026\n"
          ]
        }
      ]
    },
    {
      "cell_type": "markdown",
      "source": [
        "Results (Outliers replaced with median value)"
      ],
      "metadata": {
        "id": "i2fHIVZoZgSr"
      }
    },
    {
      "cell_type": "code",
      "source": [
        "import pandas as pd\n",
        "from sklearn.model_selection import train_test_split\n",
        "from sklearn.linear_model import LinearRegression\n",
        "from sklearn import metrics\n",
        "from sklearn.preprocessing import LabelEncoder\n",
        "from sklearn.impute import SimpleImputer\n",
        "\n",
        "def clean_data(data):\n",
        "    # Drop any rows with missing values\n",
        "    data.dropna(inplace=True)\n",
        "\n",
        "    # Replace any outliers with the median value\n",
        "    for col in data.columns:\n",
        "        if data[col].dtype in ['int64', 'float64']:\n",
        "            data[col] = data[col].apply(lambda x: x if (x < data[col].quantile(0.75) + 1.5*(data[col].quantile(0.75) - data[col].quantile(0.25))) & (x > data[col].quantile(0.25) - 1.5*(data[col].quantile(0.75) - data[col].quantile(0.25))) else data[col].median())\n",
        "\n",
        "    # Convert categorical variables into numerical variables\n",
        "    for col in data.columns:\n",
        "        if data[col].dtype == 'object':\n",
        "            le = LabelEncoder()\n",
        "            data[col] = le.fit_transform(data[col])\n",
        "\n",
        "    return data\n",
        "\n",
        "def load_data(file_path, dependent_variable):\n",
        "    # Load the data\n",
        "    data = pd.read_csv(file_path)\n",
        "\n",
        "    # Clean the data\n",
        "    data = clean_data(data)\n",
        "\n",
        "    # Define the dependent variable\n",
        "    y = data[dependent_variable]\n",
        "\n",
        "    # Define the independent variables\n",
        "    x = data.drop([dependent_variable], axis=1)\n",
        "\n",
        "    return x, y\n",
        "\n",
        "def run_linear_regression(file_path, dependent_variable):\n",
        "    x, y = load_data(file_path, dependent_variable)\n",
        "\n",
        "    # Split the data into training and testing sets\n",
        "    x_train, x_test, y_train, y_test = train_test_split(x, y, test_size=0.2, random_state=0)\n",
        "\n",
        "    # Create and fit the linear regression model\n",
        "    model = LinearRegression()\n",
        "    model.fit(x_train, y_train)\n",
        "\n",
        "    # Make predictions\n",
        "    predictions = model.predict(x_test)\n",
        "\n",
        "    # Evaluate the model\n",
        "    mae = metrics.mean_absolute_error(y_test, predictions)\n",
        "    mse = metrics.mean_squared_error(y_test, predictions)\n",
        "    rmse = mse ** 0.5\n",
        "\n",
        "    print('Mean Absolute Error:', mae)\n",
        "    print('Mean Squared Error:', mse)\n",
        "    print('Root Mean Squared Error:', rmse)\n",
        "\n",
        "# Use the function\n",
        "run_linear_regression('/content/banana_quality.csv', 'Quality')"
      ],
      "metadata": {
        "colab": {
          "base_uri": "https://localhost:8080/"
        },
        "id": "eXz_6uV-lXLK",
        "outputId": "bddd1bdc-a520-4e00-bf37-d4a23d551965"
      },
      "execution_count": null,
      "outputs": [
        {
          "output_type": "stream",
          "name": "stdout",
          "text": [
            "Mean Absolute Error: 0.276336390566268\n",
            "Mean Squared Error: 0.11398327376169835\n",
            "Root Mean Squared Error: 0.33761408999284725\n"
          ]
        }
      ]
    },
    {
      "cell_type": "markdown",
      "source": [
        "Results (Duplicate entries Dropped)"
      ],
      "metadata": {
        "id": "gJ0WJYV6ZlfO"
      }
    },
    {
      "cell_type": "code",
      "source": [
        "import pandas as pd\n",
        "from sklearn.model_selection import train_test_split\n",
        "from sklearn.linear_model import LinearRegression\n",
        "from sklearn import metrics\n",
        "from sklearn.preprocessing import LabelEncoder\n",
        "import numpy as np\n",
        "\n",
        "def load_and_clean_data(file_path, dependent_variable):\n",
        "    # Load the data\n",
        "    data = pd.read_csv(file_path)\n",
        "\n",
        "    # Drop any rows with missing values\n",
        "    data = data.dropna()\n",
        "\n",
        "    # Remove any duplicates\n",
        "    data = data.drop_duplicates()\n",
        "\n",
        "    # Check the data type of the dependent variable\n",
        "    if data[dependent_variable].dtype == 'object':\n",
        "        # If the data type is a string, encode the data\n",
        "        le = LabelEncoder()\n",
        "        y = le.fit_transform(data[dependent_variable])\n",
        "    else:\n",
        "        # If the data type is a float or an integer, proceed\n",
        "        y = data[dependent_variable]\n",
        "\n",
        "    # Define the independent variables\n",
        "    x = data.drop([dependent_variable], axis=1)\n",
        "\n",
        "    return x, y\n",
        "\n",
        "def run_linear_regression(file_path, dependent_variable):\n",
        "    x, y = load_and_clean_data(file_path, dependent_variable)\n",
        "\n",
        "    # Split the data into training and testing sets\n",
        "    x_train, x_test, y_train, y_test = train_test_split(x, y, test_size=0.2, random_state=0)\n",
        "\n",
        "    # Create and fit the linear regression model\n",
        "    model = LinearRegression()\n",
        "    model.fit(x_train, y_train)\n",
        "\n",
        "    # Make predictions\n",
        "    predictions = model.predict(x_test)\n",
        "\n",
        "    # Evaluate the model\n",
        "    mae = metrics.mean_absolute_error(y_test, predictions)\n",
        "    mse = metrics.mean_squared_error(y_test, predictions)\n",
        "    rmse = mse ** 0.5\n",
        "\n",
        "    print('Mean Absolute Error:', mae)\n",
        "    print('Mean Squared Error:', mse)\n",
        "    print('Root Mean Squared Error:', rmse)\n",
        "\n",
        "# Use the function\n",
        "run_linear_regression('/content/banana_quality.csv', 'Quality')"
      ],
      "metadata": {
        "colab": {
          "base_uri": "https://localhost:8080/"
        },
        "id": "45nSAWM4m8GI",
        "outputId": "c03f81f6-3753-4309-e7e3-a5156dda2763"
      },
      "execution_count": null,
      "outputs": [
        {
          "output_type": "stream",
          "name": "stdout",
          "text": [
            "Mean Absolute Error: 0.2665113141335334\n",
            "Mean Squared Error: 0.10709127356247246\n",
            "Root Mean Squared Error: 0.3272480306472026\n"
          ]
        }
      ]
    }
  ]
}
